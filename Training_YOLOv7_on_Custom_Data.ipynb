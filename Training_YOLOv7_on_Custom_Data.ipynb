{
  "cells": [
    {
      "cell_type": "markdown",
      "metadata": {
        "id": "view-in-github",
        "colab_type": "text"
      },
      "source": [
        "<a href=\"https://colab.research.google.com/github/Ellen-Tuane/YOLOV7_CUSTUM_DATA/blob/main/Training_YOLOv7_on_Custom_Data.ipynb\" target=\"_parent\"><img src=\"https://colab.research.google.com/assets/colab-badge.svg\" alt=\"Open In Colab\"/></a>"
      ]
    },
    {
      "cell_type": "markdown",
      "metadata": {
        "id": "GD9gUQpaBxNa"
      },
      "source": [
        "# How to Train YOLOv7 on a Custom Dataset\n",
        "\n",
        "### **Steps Covered in this Tutorial**\n",
        "\n",
        "To train our detector we take the following steps:\n",
        "\n",
        "* Install YOLOv7 dependencies\n",
        "* Load custom dataset in YOLOv7 format\n",
        "* Run YOLOv7 training\n",
        "* Evaluate YOLOv7 performance\n",
        "\n",
        "Tutorials that supported building this colab:\n",
        "\n",
        "Training the Yolov7 with Custom Data: https://blog.roboflow.com/yolov7-custom-dataset-training-tutorial/\n",
        "\n",
        "Training yolov7: https://www.youtube.com/watch?v=_fXABNYlZhY"
      ]
    },
    {
      "cell_type": "markdown",
      "source": [
        "# Mount Google Drive"
      ],
      "metadata": {
        "id": "XxpDdDwjRkag"
      }
    },
    {
      "cell_type": "code",
      "source": [
        "from google.colab import drive\n",
        "drive.mount('/content/gdrive')"
      ],
      "metadata": {
        "id": "oSDJ8PuyRjMx",
        "colab": {
          "base_uri": "https://localhost:8080/"
        },
        "outputId": "dae085e3-fcd6-46e4-d101-685a231d94f7"
      },
      "execution_count": null,
      "outputs": [
        {
          "output_type": "stream",
          "name": "stdout",
          "text": [
            "Mounted at /content/gdrive\n"
          ]
        }
      ]
    },
    {
      "cell_type": "markdown",
      "source": [
        "# Check If GPU is enable"
      ],
      "metadata": {
        "id": "TT0BHguKR2jf"
      }
    },
    {
      "cell_type": "code",
      "source": [
        " !nvidia-smi"
      ],
      "metadata": {
        "id": "NGTaxtDkRydf"
      },
      "execution_count": null,
      "outputs": []
    },
    {
      "cell_type": "markdown",
      "metadata": {
        "id": "7mGmQbAO5pQb"
      },
      "source": [
        "#Install Dependencies"
      ]
    },
    {
      "cell_type": "code",
      "execution_count": null,
      "metadata": {
        "id": "nD-uPyQ_2jiN"
      },
      "outputs": [],
      "source": [
        "# Download YOLOv7 repository and install requirements\n",
        "!git clone https://github.com/WongKinYiu/yolov7\n",
        "%cd yolov7\n",
        "!pip install -r requirements.txt"
      ]
    },
    {
      "cell_type": "markdown",
      "source": [
        "# Configure cfg file"
      ],
      "metadata": {
        "id": "U-IP0t_COLsF"
      }
    },
    {
      "cell_type": "markdown",
      "source": [
        "Run in case training yolov7 model"
      ],
      "metadata": {
        "id": "7JB0Iy8mamKg"
      }
    },
    {
      "cell_type": "code",
      "source": [
        "# Copy cfg file\n",
        "!cp cfg/training/yolov7.yaml cfg/training/yolov7-custom-training.yaml"
      ],
      "metadata": {
        "id": "GfoxvWBSOROK"
      },
      "execution_count": null,
      "outputs": []
    },
    {
      "cell_type": "code",
      "source": [
        "# Change number of classes in cfg file\n",
        "!sed -i 's/nc: 80/nc: 1/' cfg/training/yolov7-custom-training.yaml"
      ],
      "metadata": {
        "id": "Uy23A0BW-Hdy"
      },
      "execution_count": null,
      "outputs": []
    },
    {
      "cell_type": "markdown",
      "source": [
        "Run in case training yolov7-tiny model"
      ],
      "metadata": {
        "id": "yopaGd3Lagvz"
      }
    },
    {
      "cell_type": "code",
      "source": [
        "# Copy cfg file\n",
        "!cp cfg/training/yolov7-tiny.yaml cfg/training/yolov7-tiny-custom-training.yaml"
      ],
      "metadata": {
        "id": "OSODQxs2DEb4"
      },
      "execution_count": null,
      "outputs": []
    },
    {
      "cell_type": "code",
      "source": [
        "# Change number of classes in cfg file\n",
        "!sed -i 's/nc: 80/nc: 1/' cfg/training/yolov7-tiny-custom-training.yaml"
      ],
      "metadata": {
        "id": "4o6CD4TF_Lr4"
      },
      "execution_count": null,
      "outputs": []
    },
    {
      "cell_type": "markdown",
      "source": [
        "# Configure data file"
      ],
      "metadata": {
        "id": "pj1xUPWe_eW7"
      }
    },
    {
      "cell_type": "markdown",
      "source": [
        "Images and labels must be saved in separeted folders"
      ],
      "metadata": {
        "id": "jebQEZ4ajWuS"
      }
    },
    {
      "cell_type": "code",
      "source": [
        "!echo -e 'train: ./data/train/train\\nval: ./data/val/test\\nnc: 1\\nnames: [\"person\"]' > ./data/custom-training.yaml"
      ],
      "metadata": {
        "id": "0GVJlAMRAPa0"
      },
      "execution_count": null,
      "outputs": []
    },
    {
      "cell_type": "code",
      "source": [
        "#Create folder and unzip train dateset\n",
        "!mkdir data/train"
      ],
      "metadata": {
        "id": "SrOPI39wXd97"
      },
      "execution_count": null,
      "outputs": []
    },
    {
      "cell_type": "code",
      "source": [
        "!unzip /content/gdrive/MyDrive/yolov7/train.zip -d data"
      ],
      "metadata": {
        "id": "undzRXswErRD"
      },
      "execution_count": null,
      "outputs": []
    },
    {
      "cell_type": "code",
      "source": [
        "#Create folder and unzip train dateset\n",
        "!mkdir data/val"
      ],
      "metadata": {
        "id": "gn0LCbAhXlyz"
      },
      "execution_count": null,
      "outputs": []
    },
    {
      "cell_type": "code",
      "source": [
        "!unzip /content/gdrive/MyDrive/yolov7/test.zip -d data/val"
      ],
      "metadata": {
        "id": "338p9ow-VoSj"
      },
      "execution_count": null,
      "outputs": []
    },
    {
      "cell_type": "markdown",
      "source": [
        "# You can customize your model settings if desired using the following options:"
      ],
      "metadata": {
        "id": "0tViNFikbCoV"
      }
    },
    {
      "cell_type": "markdown",
      "source": [
        "--weights, initial weights path (default value: 'yolo7.pt')\n",
        "\n",
        "--cfg, model.yaml path (default value: '')\n",
        "\n",
        "--data, data.yaml path (default value: 'data/coco.yaml')\n",
        "\n",
        "--hyp, hyperparameters path (default value: 'data/hyp.scratch.p5.yaml')\n",
        "\n",
        "--epochs, the number of times to cycle through your training data (default value: 300)\n",
        "\n",
        "--batch-size, total batch size for all GPUs (default value: 16)\n",
        "\n",
        "--img-size, image sizes (default value: [640, 640])\n",
        "--rect, whether to use the non-square training option\n",
        "\n",
        "--resume, resume most recent training (default value: False)\n",
        "\n",
        "--nosave, only save final checkpoint\n",
        "\n",
        "--notest, only test final epoch\n",
        "\n",
        "--noautoanchor, disable auto-anchor check\n",
        "\n",
        "--evolve, evolve hyperparameters\n",
        "\n",
        "--bucket, gsutil bucket (default value: '')\n",
        "\n",
        "--cache-images, cache images for faster training\n",
        "\n",
        "--image-weights, use weighted image selection for \n",
        "training\n",
        "\n",
        "--device, cuda device, i.e. 0 or 0,1,2,3 or cpu (default value: '')\n",
        "\n",
        "--multi-scale, vary img-size +/- 50%%\n",
        "\n",
        "--single-cls, train multi-class data as single-class\n",
        "\n",
        "--adam, use torch.optim.Adam() optimizer\n",
        "\n",
        "--sync-bn, use SyncBatchNorm, only available in DDP mode\n",
        "\n",
        "--local_rank, DDP parameter, do not modify (default value: -1)\n",
        "\n",
        "--workers, maximum number of dataloader workers (default value: 8)\n",
        "\n",
        "--project, save to project/name (default value: 'runs/train')\n",
        "\n",
        "--entity, W&B entity (default value: None)\n",
        "\n",
        "--name, save to project/name (default value: 'exp')\n",
        "\n",
        "--exist-ok, existing project/name ok, do not increment\n",
        "\n",
        "--quad, quad dataloader\n",
        "\n",
        "--linear-lr, linear LR\n",
        "\n",
        "--label-smoothing, Label smoothing epsilon (default value: 0.0)\n",
        "\n",
        "--upload_dataset, Upload dataset as W&B artifact table\n",
        "\n",
        "--bbox_interval, Set bounding-box image logging interval for W&B (default value: -1)\n",
        "\n",
        "--save_period, Log model after every \"save_period\" epoch (default value: -1)\n",
        "\n",
        "--artifact_alias, version of dataset artifact to be used (default value: \"latest\")"
      ],
      "metadata": {
        "id": "qePEJPMDdbST"
      }
    },
    {
      "cell_type": "markdown",
      "metadata": {
        "id": "bHfT9gEiBsBd"
      },
      "source": [
        "# Begin Custom Training\n",
        "\n",
        "NOTE: We will only modify one of the YOLOv7 training defaults in our example: `epochs`. We will adjust from 300 to 100 epochs in our example for speed. \n",
        "If you'd like to change other settings, see details in [our accompanying blog post](https://blog.roboflow.com/yolov7-custom-dataset-training-tutorial/)."
      ]
    },
    {
      "cell_type": "markdown",
      "source": [
        "Run in case training yolov7 model"
      ],
      "metadata": {
        "id": "iW_0DurYbexU"
      }
    },
    {
      "cell_type": "code",
      "source": [
        "# download COCO starting checkpoint\n",
        "%cd /content/yolov7\n",
        "!wget https://github.com/WongKinYiu/yolov7/releases/download/v0.1/yolov7_training.pt"
      ],
      "metadata": {
        "id": "bUbmy674bhpD"
      },
      "execution_count": null,
      "outputs": []
    },
    {
      "cell_type": "code",
      "source": [
        "# run this cell to begin training\n",
        "%cd /content/yolov7\n",
        "!python train.py --batch 16 --epochs 100 --data data/custom-training.yaml --weights 'yolov7_training.pt' --cfg cfg/training/yolov7-custom-training.yaml -project '/content/gdrive/MyDrive/My Drive/yolov7' \n"
      ],
      "metadata": {
        "id": "oTpQabLDeJQ1"
      },
      "execution_count": null,
      "outputs": []
    },
    {
      "cell_type": "markdown",
      "source": [
        "Run in case training yolov7-tiny model"
      ],
      "metadata": {
        "id": "1AbxhwwNa-7R"
      }
    },
    {
      "cell_type": "code",
      "source": [
        "# download COCO starting checkpoint\n",
        "%cd /content/yolov7\n",
        "!wget \"https://github.com/WongKinYiu/yolov7/releases/download/v0.1/yolov7-tiny.pt\""
      ],
      "metadata": {
        "id": "aj2PTl5ra7DP"
      },
      "execution_count": null,
      "outputs": []
    },
    {
      "cell_type": "code",
      "execution_count": null,
      "metadata": {
        "id": "1iqOPKjr22mL"
      },
      "outputs": [],
      "source": [
        "# run this cell to begin training\n",
        "%cd /content/yolov7\n",
        "!python train.py --batch 16 --epochs 100 --data data/custom-training.yaml --weights 'yolov7-tiny.pt' --cfg cfg/training/yolov7-tiny-custom-training.yaml --project '/content/gdrive/MyDrive/My Drive/yolov7' \n"
      ]
    },
    {
      "cell_type": "markdown",
      "metadata": {
        "id": "0W0MpUaTCJro"
      },
      "source": [
        "# Evaluation\n",
        "\n",
        "For details, see [the arguments accepted by detect.py](https://github.com/WongKinYiu/yolov7/blob/main/detect.py#L154)."
      ]
    },
    {
      "cell_type": "code",
      "execution_count": null,
      "metadata": {
        "id": "N4cfnLtTCIce"
      },
      "outputs": [],
      "source": [
        "# Run evaluation\n",
        "!python detect.py --weights /content/gdrive/MyDrive/My Drive/yolov7/best.pt --conf 0.1 --source {dataset.location}/test/images\n"
      ]
    },
    {
      "cell_type": "code",
      "execution_count": null,
      "metadata": {
        "id": "6AGhNOSSHY4_"
      },
      "outputs": [],
      "source": [
        "#display inference on ALL test images\n",
        "\n",
        "import glob\n",
        "from IPython.display import Image, display\n",
        "\n",
        "i = 0\n",
        "limit = 10000 # max images to print\n",
        "for imageName in glob.glob('/content/gdrive/MyDrive/My Drive/yolov7/exp/*.jpg'): #assuming JPG\n",
        "    if i < limit:\n",
        "      display(Image(filename=imageName))\n",
        "      print(\"\\n\")\n",
        "    i = i + 1\n",
        "    "
      ]
    }
  ],
  "metadata": {
    "accelerator": "GPU",
    "colab": {
      "collapsed_sections": [],
      "provenance": [],
      "include_colab_link": true
    },
    "kernelspec": {
      "display_name": "Python 3",
      "name": "python3"
    }
  },
  "nbformat": 4,
  "nbformat_minor": 0
}