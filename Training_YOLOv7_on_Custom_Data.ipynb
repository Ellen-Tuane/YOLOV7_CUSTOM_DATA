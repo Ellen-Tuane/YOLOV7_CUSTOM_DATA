{
  "cells": [
    {
      "cell_type": "markdown",
      "metadata": {
        "id": "view-in-github",
        "colab_type": "text"
      },
      "source": [
        "<a href=\"https://colab.research.google.com/github/Ellen-Tuane/YOLOV7_CUSTUM_DATA/blob/main/Training_YOLOv7_on_Custom_Data.ipynb\" target=\"_parent\"><img src=\"https://colab.research.google.com/assets/colab-badge.svg\" alt=\"Open In Colab\"/></a>"
      ]
    },
    {
      "cell_type": "markdown",
      "metadata": {
        "id": "GD9gUQpaBxNa"
      },
      "source": [
        "# How to Train YOLOv7 on a Custom Dataset\n",
        "\n",
        "### **Steps Covered in this Tutorial**\n",
        "\n",
        "To train our detector we take the following steps:\n",
        "\n",
        "* Install YOLOv7 dependencies\n",
        "* Load custom dataset in YOLOv7 format\n",
        "* Run YOLOv7 training\n",
        "* Evaluate YOLOv7 performance\n",
        "\n",
        "Tutorials that supported building this colab:\n",
        "\n",
        "Training the Yolov7 with Custom Data: https://blog.roboflow.com/yolov7-custom-dataset-training-tutorial/\n",
        "\n",
        "Training yolov7: https://www.youtube.com/watch?v=_fXABNYlZhY"
      ]
    },
    {
      "cell_type": "markdown",
      "source": [
        "# Mount Google Drive"
      ],
      "metadata": {
        "id": "XxpDdDwjRkag"
      }
    },
    {
      "cell_type": "code",
      "source": [
        "from google.colab import drive\n",
        "drive.mount('/content/gdrive')"
      ],
      "metadata": {
        "id": "oSDJ8PuyRjMx",
        "colab": {
          "base_uri": "https://localhost:8080/"
        },
        "outputId": "dae085e3-fcd6-46e4-d101-685a231d94f7"
      },
      "execution_count": null,
      "outputs": [
        {
          "output_type": "stream",
          "name": "stdout",
          "text": [
            "Mounted at /content/gdrive\n"
          ]
        }
      ]
    },
    {
      "cell_type": "markdown",
      "source": [
        "# Check If GPU is enable"
      ],
      "metadata": {
        "id": "TT0BHguKR2jf"
      }
    },
    {
      "cell_type": "code",
      "source": [
        " !nvidia-smi"
      ],
      "metadata": {
        "id": "NGTaxtDkRydf"
      },
      "execution_count": null,
      "outputs": []
    },
    {
      "cell_type": "markdown",
      "metadata": {
        "id": "7mGmQbAO5pQb"
      },
      "source": [
        "#Install Dependencies"
      ]
    },
    {
      "cell_type": "code",
      "execution_count": null,
      "metadata": {
        "id": "nD-uPyQ_2jiN"
      },
      "outputs": [],
      "source": [
        "# Download YOLOv7 repository and install requirements\n",
        "!git clone https://github.com/WongKinYiu/yolov7\n",
        "%cd yolov7\n",
        "!pip install -r requirements.txt"
      ]
    },
    {
      "cell_type": "markdown",
      "source": [
        "# Configure cfg file"
      ],
      "metadata": {
        "id": "U-IP0t_COLsF"
      }
    },
    {
      "cell_type": "markdown",
      "source": [
        "Run in case training yolov7 model"
      ],
      "metadata": {
        "id": "7JB0Iy8mamKg"
      }
    },
    {
      "cell_type": "code",
      "source": [
        "# Copy cfg file\n",
        "!cp cfg/training/yolov7.yaml cfg/training/yolov7-custom-training.yaml"
      ],
      "metadata": {
        "id": "GfoxvWBSOROK"
      },
      "execution_count": null,
      "outputs": []
    },
    {
      "cell_type": "code",
      "source": [
        "# Change number of classes in cfg file\n",
        "!sed -i 's/nc: 80/nc: 1/' cfg/training/yolov7-custom-training.yaml"
      ],
      "metadata": {
        "id": "Uy23A0BW-Hdy"
      },
      "execution_count": null,
      "outputs": []
    },
    {
      "cell_type": "markdown",
      "source": [
        "Run in case training yolov7-tiny model"
      ],
      "metadata": {
        "id": "yopaGd3Lagvz"
      }
    },
    {
      "cell_type": "code",
      "source": [
        "# Copy cfg file\n",
        "!cp cfg/training/yolov7-tiny.yaml cfg/training/yolov7-tiny-custom-training.yaml"
      ],
      "metadata": {
        "id": "OSODQxs2DEb4"
      },
      "execution_count": null,
      "outputs": []
    },
    {
      "cell_type": "code",
      "source": [
        "# Change number of classes in cfg file\n",
        "!sed -i 's/nc: 80/nc: 1/' cfg/training/yolov7-tiny-custom-training.yaml"
      ],
      "metadata": {
        "id": "4o6CD4TF_Lr4"
      },
      "execution_count": null,
      "outputs": []
    },
    {
      "cell_type": "markdown",
      "source": [
        "# Configure data file"
      ],
      "metadata": {
        "id": "pj1xUPWe_eW7"
      }
    },
    {
      "cell_type": "markdown",
      "source": [
        "Images and labels must be saved in separeted folders"
      ],
      "metadata": {
        "id": "jebQEZ4ajWuS"
      }
    },
    {
      "cell_type": "code",
      "source": [
        "!echo -e 'train: ./data/train/train\\nval: ./data/val/test\\nnc: 1\\nnames: [\"person\"]' > ./data/custom-training.yaml"
      ],
      "metadata": {
        "id": "0GVJlAMRAPa0"
      },
      "execution_count": null,
      "outputs": []
    },
    {
      "cell_type": "code",
      "source": [
        "#Create folder and unzip train dateset\n",
        "!mkdir data/train"
      ],
      "metadata": {
        "id": "SrOPI39wXd97"
      },
      "execution_count": null,
      "outputs": []
    },
    {
      "cell_type": "code",
      "source": [
        "!unzip /content/gdrive/MyDrive/yolov7/train.zip -d data"
      ],
      "metadata": {
        "id": "undzRXswErRD"
      },
      "execution_count": null,
      "outputs": []
    },
    {
      "cell_type": "code",
      "source": [
        "#Create folder and unzip train dateset\n",
        "!mkdir data/val"
      ],
      "metadata": {
        "id": "gn0LCbAhXlyz"
      },
      "execution_count": null,
      "outputs": []
    },
    {
      "cell_type": "code",
      "source": [
        "!unzip /content/gdrive/MyDrive/yolov7/test.zip -d data/val"
      ],
      "metadata": {
        "id": "338p9ow-VoSj"
      },
      "execution_count": null,
      "outputs": []
    },
    {
      "cell_type": "markdown",
      "metadata": {
        "id": "bHfT9gEiBsBd"
      },
      "source": [
        "# Begin Custom Training\n",
        "\n",
        "NOTE: We will only modify one of the YOLOv7 training defaults in our example: `epochs`. We will adjust from 300 to 100 epochs in our example for speed. \n",
        "If you'd like to change other settings, see details in [ RoboFlow blog post](https://blog.roboflow.com/yolov7-custom-dataset-training-tutorial/)."
      ]
    },
    {
      "cell_type": "markdown",
      "source": [
        "Run in case training yolov7 model"
      ],
      "metadata": {
        "id": "iW_0DurYbexU"
      }
    },
    {
      "cell_type": "code",
      "source": [
        "# download COCO starting checkpoint\n",
        "%cd /content/yolov7\n",
        "!wget https://github.com/WongKinYiu/yolov7/releases/download/v0.1/yolov7_training.pt"
      ],
      "metadata": {
        "id": "bUbmy674bhpD"
      },
      "execution_count": null,
      "outputs": []
    },
    {
      "cell_type": "code",
      "source": [
        "# run this cell to begin training\n",
        "%cd /content/yolov7\n",
        "!python train.py --batch 16 --epochs 100 --data data/custom-training.yaml --weights 'yolov7_training.pt' --cfg cfg/training/yolov7-custom-training.yaml -project '/content/gdrive/MyDrive/My Drive/yolov7' \n"
      ],
      "metadata": {
        "id": "oTpQabLDeJQ1"
      },
      "execution_count": null,
      "outputs": []
    },
    {
      "cell_type": "markdown",
      "source": [
        "Run in case training yolov7-tiny model"
      ],
      "metadata": {
        "id": "1AbxhwwNa-7R"
      }
    },
    {
      "cell_type": "code",
      "source": [
        "# download COCO starting checkpoint\n",
        "%cd /content/yolov7\n",
        "!wget \"https://github.com/WongKinYiu/yolov7/releases/download/v0.1/yolov7-tiny.pt\""
      ],
      "metadata": {
        "id": "aj2PTl5ra7DP"
      },
      "execution_count": null,
      "outputs": []
    },
    {
      "cell_type": "code",
      "execution_count": null,
      "metadata": {
        "id": "1iqOPKjr22mL"
      },
      "outputs": [],
      "source": [
        "# run this cell to begin training\n",
        "%cd /content/yolov7\n",
        "!python train.py --batch 16 --epochs 100 --data data/custom-training.yaml --weights 'yolov7-tiny.pt' --cfg cfg/training/yolov7-tiny-custom-training.yaml --project '/content/gdrive/MyDrive/My Drive/yolov7' \n"
      ]
    },
    {
      "cell_type": "markdown",
      "metadata": {
        "id": "0W0MpUaTCJro"
      },
      "source": [
        "# Evaluation\n",
        "\n",
        "For details, see [the arguments accepted by detect.py](https://github.com/WongKinYiu/yolov7/blob/main/detect.py#L154)."
      ]
    },
    {
      "cell_type": "code",
      "execution_count": null,
      "metadata": {
        "id": "N4cfnLtTCIce"
      },
      "outputs": [],
      "source": [
        "# Run evaluation\n",
        "!python detect.py --weights /content/gdrive/MyDrive/My Drive/yolov7/best.pt --conf 0.1 --source {dataset.location}/test/images\n"
      ]
    },
    {
      "cell_type": "code",
      "execution_count": null,
      "metadata": {
        "id": "6AGhNOSSHY4_"
      },
      "outputs": [],
      "source": [
        "#display inference on ALL test images\n",
        "\n",
        "import glob\n",
        "from IPython.display import Image, display\n",
        "\n",
        "i = 0\n",
        "limit = 10000 # max images to print\n",
        "for imageName in glob.glob('/content/gdrive/MyDrive/My Drive/yolov7/exp/*.jpg'): #assuming JPG\n",
        "    if i < limit:\n",
        "      display(Image(filename=imageName))\n",
        "      print(\"\\n\")\n",
        "    i = i + 1\n",
        "    "
      ]
    }
  ],
  "metadata": {
    "accelerator": "GPU",
    "colab": {
      "collapsed_sections": [],
      "provenance": [],
      "include_colab_link": true
    },
    "kernelspec": {
      "display_name": "Python 3",
      "name": "python3"
    }
  },
  "nbformat": 4,
  "nbformat_minor": 0
}